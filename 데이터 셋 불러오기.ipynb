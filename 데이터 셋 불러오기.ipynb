{
 "cells": [
  {
   "cell_type": "markdown",
   "metadata": {},
   "source": [
    "# 데이터 불러오기"
   ]
  },
  {
   "cell_type": "code",
   "execution_count": null,
   "metadata": {},
   "outputs": [],
   "source": [
    "from google.colab import drive\n",
    "drive.mount('/content/drive')"
   ]
  },
  {
   "cell_type": "code",
   "execution_count": 24,
   "metadata": {
    "colab": {
     "base_uri": "https://localhost:8080/"
    },
    "id": "mbftrzgS6WIY",
    "outputId": "a3231787-9ce7-4ba5-e8b4-d27fc6c0310f"
   },
   "outputs": [
    {
     "name": "stdout",
     "output_type": "stream",
     "text": [
      "/content/drive/MyDrive/dataset\n"
     ]
    }
   ],
   "source": [
    "%cd /content/drive/MyDrive/dataset\n",
    "# !unzip -qq \"/content/drive/MyDrive/dataset/대학부 데이터셋-수정.zip\""
   ]
  },
  {
   "cell_type": "code",
   "execution_count": 25,
   "metadata": {
    "id": "RmWfSf_L8Sf6"
   },
   "outputs": [],
   "source": [
    "import os,shutil\n",
    "from glob import glob\n",
    "from PIL import Image\n",
    "import matplotlib.pyplot as plt\n",
    "import warnings\n",
    "import cv2\n",
    "warnings.filterwarnings(\"ignore\")\n",
    "\n",
    "base_dir='/content/drive/MyDrive/ColabNotebooks/challenge/data'\n",
    "data_dir=os.path.join(base_dir,'datasets')\n",
    "train_L1_dir = os.path.join(data_dir, 'L2_3')\n",
    "train_L2_dir = os.path.join(data_dir, 'L2_10')\n",
    "train_L3_dir = os.path.join(data_dir, 'L2_12')\n",
    "train_L4_dir = os.path.join(data_dir, 'L2_15')\n",
    "train_L5_dir = os.path.join(data_dir, 'L2_20')\n",
    "train_L6_dir = os.path.join(data_dir, 'L2_21')\n",
    "train_L7_dir = os.path.join(data_dir, 'L2_24')\n",
    "train_L8_dir = os.path.join(data_dir, 'L2_25')\n",
    "train_L9_dir = os.path.join(data_dir, 'L2_27')\n",
    "train_L10_dir = os.path.join(data_dir, 'L2_30')\n",
    "train_L11_dir = os.path.join(data_dir, 'L2_33')\n",
    "train_L12_dir = os.path.join(data_dir, 'L2_34')\n",
    "train_L13_dir = os.path.join(data_dir, 'L2_39')\n",
    "train_L14_dir = os.path.join(data_dir, 'L2_40')\n",
    "train_L15_dir = os.path.join(data_dir, 'L2_41')\n",
    "train_L16_dir = os.path.join(data_dir, 'L2_44')\n",
    "train_L17_dir = os.path.join(data_dir, 'L2_45')\n",
    "train_L18_dir = os.path.join(data_dir, 'L2_46')\n",
    "train_L19_dir = os.path.join(data_dir, 'L2_50')\n",
    "train_L20_dir = os.path.join(data_dir, 'L2_52')"
   ]
  },
  {
   "cell_type": "code",
   "execution_count": 26,
   "metadata": {
    "id": "sYcKtI-4bBfZ"
   },
   "outputs": [],
   "source": [
    "import matplotlib.pyplot as plt\n",
    "import numpy as np\n",
    "import os\n",
    "import PIL\n",
    "import tensorflow as tf\n",
    "\n",
    "from tensorflow import keras\n",
    "from tensorflow.keras import layers\n",
    "from tensorflow.keras.models import Sequential"
   ]
  },
  {
   "cell_type": "markdown",
   "metadata": {},
   "source": [
    "# 데이터 확인하기"
   ]
  },
  {
   "cell_type": "code",
   "execution_count": 27,
   "metadata": {
    "colab": {
     "base_uri": "https://localhost:8080/"
    },
    "id": "F8BNA5gMbFZa",
    "outputId": "08f53c54-1c49-4b08-ccee-b28899f6417c"
   },
   "outputs": [
    {
     "name": "stdout",
     "output_type": "stream",
     "text": [
      "158\n",
      "19144\n"
     ]
    }
   ],
   "source": [
    "import pathlib\n",
    "import glob\n",
    "data_dir = pathlib.Path(data_dir)\n",
    "train_L1_dir = pathlib.Path(train_L1_dir)\n",
    "image_count = len(list(train_L1_dir.glob('*.jpg')))\n",
    "image_count2 = len(list(data_dir.glob('*/*.jpg')))\n",
    "print(image_count)\n",
    "print(image_count2)"
   ]
  }
 ],
 "metadata": {
  "accelerator": "GPU",
  "colab": {
   "collapsed_sections": [],
   "machine_shape": "hm",
   "provenance": []
  },
  "gpuClass": "premium",
  "kernelspec": {
   "display_name": "Python 3",
   "language": "python",
   "name": "python3"
  },
  "language_info": {
   "codemirror_mode": {
    "name": "ipython",
    "version": 3
   },
   "file_extension": ".py",
   "mimetype": "text/x-python",
   "name": "python",
   "nbconvert_exporter": "python",
   "pygments_lexer": "ipython3",
   "version": "3.6.13"
  }
 },
 "nbformat": 4,
 "nbformat_minor": 1
}
